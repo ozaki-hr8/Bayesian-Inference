{
  "nbformat": 4,
  "nbformat_minor": 0,
  "metadata": {
    "colab": {
      "name": "3_1.ipynb",
      "provenance": [],
      "collapsed_sections": []
    },
    "kernelspec": {
      "name": "python3",
      "display_name": "Python 3"
    },
    "language_info": {
      "name": "python"
    }
  },
  "cells": [
    {
      "cell_type": "markdown",
      "source": [
        "**データへの確率分布の仮定**\n",
        "\n",
        "乳がん診断データの診断結果 (diagnosis) は\n",
        "M = malignant (悪性) or B = benign (良性) と2値をとる離散の事象\n",
        "→ベルヌーイ分布を仮定\n",
        "\n",
        "https://www.kaggle.com/datasets/uciml/breast-cancer-wisconsin-data\n"
      ],
      "metadata": {
        "id": "2pBOAUDwd3ht"
      }
    },
    {
      "cell_type": "code",
      "metadata": {
        "id": "l8Zm449Mp_Xp",
        "colab": {
          "base_uri": "https://localhost:8080/"
        },
        "outputId": "d2564e5e-112b-4347-b193-90cf748ce97a"
      },
      "source": [
        "import numpy as np\n",
        "import matplotlib.pyplot as plt\n",
        "import pandas as pd\n",
        "from scipy.stats import beta \n",
        "\n",
        "data = pd.read_csv(\"/input/breast-cancer-wisconsin-data.csv\")\n",
        "\n",
        "#陽性率を求めたいので、B　=　1、M　=　0 に置換\n",
        "data=data.replace({'diagnosis': {'M': 0}})\n",
        "data=data.replace({'diagnosis': {'B': 1}})\n",
        "d1=len(data.query('diagnosis == 1'))\n",
        "d2=len(data[\"diagnosis\"])\n",
        "mu_truth=d1/d2\n",
        "\n",
        "#陽性率の理論値\n",
        "print(mu_truth)"
      ],
      "execution_count": 4,
      "outputs": [
        {
          "output_type": "stream",
          "name": "stdout",
          "text": [
            "0.6274165202108963\n"
          ]
        }
      ]
    },
    {
      "cell_type": "markdown",
      "source": [
        "**モデルの構築・学習**\n",
        "\n",
        "ベルヌーイ分布のパラメータは$\\mu \\in(0,1)$を取るので\n",
        "共役事前分布としてベータ分布を採用\n",
        "\n",
        "$p(\\mu)=\\operatorname{Beta}(\\mu \\mid a, b)$\n",
        "\n",
        "今回は真のパラメータをもとにしたベルヌーイ分布から発生したデータ系列$X_{n}$を学習させて\n",
        "\n",
        "パラメータの事後分布を求めたいので以下のベータ分布を求める\n",
        "\n",
        "$p(\\mu \\mid X)=\\operatorname{Beta}(\\mu \\mid \\hat{a}, \\hat{b})$\n",
        "\n",
        "$\\hat{a}=\\sum_{n=1}^{N} x_{n}+a$\n",
        "\n",
        "$\\hat{b}=N-\\sum_{n=1}^{N} x_{n}+b$"
      ],
      "metadata": {
        "id": "_1i-VZ_IeguN"
      }
    },
    {
      "cell_type": "code",
      "source": [
        "#ランダムサンプリング\n",
        "N=1000\n",
        "x_n = np.random.binomial(n=1, p=mu_truth, size=N)\n",
        "\n",
        "# 事前分布のパラメータを指定\n",
        "a = 1.0\n",
        "b = 1.0\n",
        "\n",
        "# x軸の値を設定\n",
        "mu_line = np.arange(0.0, 1.001, 0.001) \n",
        "\n",
        "# ハイパーパラメータの計算\n",
        "a_hat = np.sum(x_n) + a \n",
        "b_hat = x_n.shape[0] - np.sum(x_n) + b \n",
        "\n",
        "# 事後分布の確率密度の計算\n",
        "posterior = beta.pdf(x=mu_line, a=a_hat, b=b_hat)\n",
        "\n",
        "# 理論値と事後分布の比較\n",
        "plt.plot(mu_line, posterior)\n",
        "plt.vlines(x=mu_truth, ymin=0, ymax=max(posterior), linestyles='--',  color='blue')\n",
        "plt.xlabel('$\\mu$')\n",
        "plt.ylabel('density')\n",
        "plt.title('Beta Distribution: $N=' + str(x_n.shape[0]) + ', \\hat{a}=' + str(a_hat) + ', \\hat{b}=' + str(b_hat) + '$')\n",
        "plt.show()"
      ],
      "metadata": {
        "colab": {
          "base_uri": "https://localhost:8080/",
          "height": 304
        },
        "id": "zw3m3zBxFwEV",
        "outputId": "760e3cff-7302-413d-b293-c8ebe54fb9d7"
      },
      "execution_count": 24,
      "outputs": [
        {
          "output_type": "display_data",
          "data": {
            "text/plain": [
              "<Figure size 432x288 with 1 Axes>"
            ],
            "image/png": "[encoded data removed]"
          },
          "metadata": {
            "needs_background": "light"
          }
        }
      ]
    },
    {
      "cell_type": "markdown",
      "source": [
        "**予測分布**\n",
        "\n",
        "データ観測後の$\\mu$の事後分布により学習後の予測分布を得る\n",
        "\n",
        "$\\begin{aligned} p\\left(x_{*} \\mid \\mathbf{X}\\right) &=\\operatorname{Bern}\\left(x_{*} \\mid \\frac{\\hat{a}}{\\hat{a}+\\hat{b}}\\right) \\\\ &=\\operatorname{Bern}\\left(x_{*} \\mid \\frac{\\sum_{n=1}^{N} x_{n}+a}{N+a+b}\\right) \\end{aligned}$"
      ],
      "metadata": {
        "id": "csd1AWU_wbm1"
      }
    },
    {
      "cell_type": "code",
      "source": [
        "# データ観測後のmuの事後分布により学習後の予測分布を得る\n",
        "mu_star=a_hat/(a_hat+b_hat)\n",
        "predict = [1 - mu_star, mu_star]\n",
        "\n",
        "# 理論値\n",
        "true_model = np.array([1 - mu_truth, mu_truth]) \n",
        "\n",
        "plt.figure()\n",
        "plt.bar(x=np.array([0, 1]), height=true_model, label='true', alpha=0.5, color='white', edgecolor='blue', linestyle='dashed') \n",
        "plt.bar(x=np.array([0, 1]), height=predict, label='predict', alpha=0.5) \n",
        "plt.xlabel('x')\n",
        "plt.ylabel('prob')\n",
        "plt.xticks(ticks=np.array([0, 1]), labels=np.array([0, 1])) \n",
        "plt.title('Bernoulli Distribution: $N='  + ', \\hat{\\mu}_{*}=' + str(np.round(mu_star, 2)) + '$')\n",
        "plt.ylim(0.0, 1.0)\n",
        "plt.legend()\n",
        "plt.show()"
      ],
      "metadata": {
        "id": "fYykd3qHc_o_",
        "colab": {
          "base_uri": "https://localhost:8080/",
          "height": 299
        },
        "outputId": "8837ec61-c196-4530-8b79-a83aef07418f"
      },
      "execution_count": 25,
      "outputs": [
        {
          "output_type": "display_data",
          "data": {
            "text/plain": [
              "<Figure size 432x288 with 1 Axes>"
            ],
            "image/png": "[encoded data removed]"
          },
          "metadata": {
            "needs_background": "light"
          }
        }
      ]
    }
  ]
}