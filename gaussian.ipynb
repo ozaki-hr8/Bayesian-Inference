{
  "cells": [
    {
      "cell_type": "markdown",
      "metadata": {
        "id": "eAM1nx-eVBpd"
      },
      "source": [
        "**データへの確率分布の仮定**\n",
        "\n",
        "1000gとして売っているパンの重量データは1000g付近を中心とした広がりを持つ連続値のデータ→1次元ガウス分布を仮定"
      ]
    },
    {
      "cell_type": "code",
      "execution_count": 14,
      "metadata": {
        "colab": {
          "base_uri": "https://localhost:8080/",
          "height": 206
        },
        "id": "_M0rmTFZDMqJ",
        "outputId": "fa016a64-c34f-4736-d7fc-a8e8a470db6b"
      },
      "outputs": [
        {
          "data": {
            "text/html": [
              "\n",
              "  <div id=\"df-ff417053-d790-431f-9922-e02d19873777\">\n",
              "    <div class=\"colab-df-container\">\n",
              "      <div>\n",
              "<style scoped>\n",
              "    .dataframe tbody tr th:only-of-type {\n",
              "        vertical-align: middle;\n",
              "    }\n",
              "\n",
              "    .dataframe tbody tr th {\n",
              "        vertical-align: top;\n",
              "    }\n",
              "\n",
              "    .dataframe thead th {\n",
              "        text-align: right;\n",
              "    }\n",
              "</style>\n",
              "<table border=\"1\" class=\"dataframe\">\n",
              "  <thead>\n",
              "    <tr style=\"text-align: right;\">\n",
              "      <th></th>\n",
              "      <th>bread</th>\n",
              "    </tr>\n",
              "  </thead>\n",
              "  <tbody>\n",
              "    <tr>\n",
              "      <th>0</th>\n",
              "      <td>942.6196</td>\n",
              "    </tr>\n",
              "    <tr>\n",
              "      <th>1</th>\n",
              "      <td>1009.8084</td>\n",
              "    </tr>\n",
              "    <tr>\n",
              "      <th>2</th>\n",
              "      <td>1042.9022</td>\n",
              "    </tr>\n",
              "    <tr>\n",
              "      <th>3</th>\n",
              "      <td>1009.2511</td>\n",
              "    </tr>\n",
              "    <tr>\n",
              "      <th>4</th>\n",
              "      <td>1028.6365</td>\n",
              "    </tr>\n",
              "  </tbody>\n",
              "</table>\n",
              "</div>\n",
              "      <button class=\"colab-df-convert\" onclick=\"convertToInteractive('df-ff417053-d790-431f-9922-e02d19873777')\"\n",
              "              title=\"Convert this dataframe to an interactive table.\"\n",
              "              style=\"display:none;\">\n",
              "        \n",
              "  <svg xmlns=\"http://www.w3.org/2000/svg\" height=\"24px\"viewBox=\"0 0 24 24\"\n",
              "       width=\"24px\">\n",
              "    <path d=\"M0 0h24v24H0V0z\" fill=\"none\"/>\n",
              "    <path d=\"M18.56 5.44l.94 2.06.94-2.06 2.06-.94-2.06-.94-.94-2.06-.94 2.06-2.06.94zm-11 1L8.5 8.5l.94-2.06 2.06-.94-2.06-.94L8.5 2.5l-.94 2.06-2.06.94zm10 10l.94 2.06.94-2.06 2.06-.94-2.06-.94-.94-2.06-.94 2.06-2.06.94z\"/><path d=\"M17.41 7.96l-1.37-1.37c-.4-.4-.92-.59-1.43-.59-.52 0-1.04.2-1.43.59L10.3 9.45l-7.72 7.72c-.78.78-.78 2.05 0 2.83L4 21.41c.39.39.9.59 1.41.59.51 0 1.02-.2 1.41-.59l7.78-7.78 2.81-2.81c.8-.78.8-2.07 0-2.86zM5.41 20L4 18.59l7.72-7.72 1.47 1.35L5.41 20z\"/>\n",
              "  </svg>\n",
              "      </button>\n",
              "      \n",
              "  <style>\n",
              "    .colab-df-container {\n",
              "      display:flex;\n",
              "      flex-wrap:wrap;\n",
              "      gap: 12px;\n",
              "    }\n",
              "\n",
              "    .colab-df-convert {\n",
              "      background-color: #E8F0FE;\n",
              "      border: none;\n",
              "      border-radius: 50%;\n",
              "      cursor: pointer;\n",
              "      display: none;\n",
              "      fill: #1967D2;\n",
              "      height: 32px;\n",
              "      padding: 0 0 0 0;\n",
              "      width: 32px;\n",
              "    }\n",
              "\n",
              "    .colab-df-convert:hover {\n",
              "      background-color: #E2EBFA;\n",
              "      box-shadow: 0px 1px 2px rgba(60, 64, 67, 0.3), 0px 1px 3px 1px rgba(60, 64, 67, 0.15);\n",
              "      fill: #174EA6;\n",
              "    }\n",
              "\n",
              "    [theme=dark] .colab-df-convert {\n",
              "      background-color: #3B4455;\n",
              "      fill: #D2E3FC;\n",
              "    }\n",
              "\n",
              "    [theme=dark] .colab-df-convert:hover {\n",
              "      background-color: #434B5C;\n",
              "      box-shadow: 0px 1px 3px 1px rgba(0, 0, 0, 0.15);\n",
              "      filter: drop-shadow(0px 1px 2px rgba(0, 0, 0, 0.3));\n",
              "      fill: #FFFFFF;\n",
              "    }\n",
              "  </style>\n",
              "\n",
              "      <script>\n",
              "        const buttonEl =\n",
              "          document.querySelector('#df-ff417053-d790-431f-9922-e02d19873777 button.colab-df-convert');\n",
              "        buttonEl.style.display =\n",
              "          google.colab.kernel.accessAllowed ? 'block' : 'none';\n",
              "\n",
              "        async function convertToInteractive(key) {\n",
              "          const element = document.querySelector('#df-ff417053-d790-431f-9922-e02d19873777');\n",
              "          const dataTable =\n",
              "            await google.colab.kernel.invokeFunction('convertToInteractive',\n",
              "                                                     [key], {});\n",
              "          if (!dataTable) return;\n",
              "\n",
              "          const docLinkHtml = 'Like what you see? Visit the ' +\n",
              "            '<a target=\"_blank\" href=https://colab.research.google.com/notebooks/data_table.ipynb>data table notebook</a>'\n",
              "            + ' to learn more about interactive tables.';\n",
              "          element.innerHTML = '';\n",
              "          dataTable['output_type'] = 'display_data';\n",
              "          await google.colab.output.renderOutput(dataTable, element);\n",
              "          const docLink = document.createElement('div');\n",
              "          docLink.innerHTML = docLinkHtml;\n",
              "          element.appendChild(docLink);\n",
              "        }\n",
              "      </script>\n",
              "    </div>\n",
              "  </div>\n",
              "  "
            ],
            "text/plain": [
              "       bread\n",
              "0   942.6196\n",
              "1  1009.8084\n",
              "2  1042.9022\n",
              "3  1009.2511\n",
              "4  1028.6365"
            ]
          },
          "execution_count": 14,
          "metadata": {},
          "output_type": "execute_result"
        }
      ],
      "source": [
        "import numpy as np\n",
        "import pandas as pd\n",
        "import matplotlib.pyplot as plt\n",
        "import math\n",
        "from scipy.stats import norm, gamma, t\n",
        "\n",
        "data = pd.read_csv(\"input/bread-1000g-data.csv\")\n",
        "data.head()"
      ]
    },
    {
      "cell_type": "code",
      "execution_count": 19,
      "metadata": {
        "id": "hN4hNPzFpyMC"
      },
      "outputs": [],
      "source": [
        "#平均、精度の理論値\n",
        "x_n=data['bread'].values\n",
        "mu_truth = np.mean(x_n)\n",
        "lambda_truth = 1 / np.var(x_n)"
      ]
    },
    {
      "cell_type": "markdown",
      "metadata": {
        "id": "7eh5TtZ9qkhL"
      },
      "source": [
        "**モデルの構築・学習**\n",
        "\n",
        "1次元ガウス分布のパラメータは $\\mu \\in \\mathbb{R}, \\lambda \\in \\mathbb{R}^{+}$ であり、ともに未知なので共役事前分布としてガウス・ガンマ分布を採用\n",
        "\n",
        "$\\begin{aligned} p\\left(\\mu, \\lambda\\right) &=\\operatorname{NG}\\left(\\mu, \\lambda \\mid m, \\beta, a,b\\right) \\\\ &=\\mathcal{N}\\left(\\mu\\mid m, (\\beta\\lambda)^{-1}\\right)\\operatorname{Gam}\\left(\\lambda\\mid a,b\\right) \\end{aligned}$\n",
        "\n",
        "\n",
        "今回は真のパラメータをもとにした1次元ガウス分布から発生したデータ系列$X_{n}$を学習させて\n",
        "\n",
        "パラメータの事後分布を求めたいので平均値に関しては以下の1次元ガウス分布を求める\n",
        "\n",
        "$p(\\mu \\mid \\lambda, X)=\\mathcal{N}\\left(\\mu \\mid \\hat{m},(\\hat{\\beta} \\lambda)^{-1}\\right)$  \n",
        "$\\hat{\\beta}=N+\\beta$ \\\\\n",
        "$\\hat{m}=\\frac{1}{\\widehat{\\beta}}\\left(\\sum_{n=1}^{N} x_{n}+\\beta m\\right)$\n",
        "\n",
        "また精度に関しては以下のガンマ分布を求める\n",
        "\n",
        "$p(\\lambda \\mid X)=\\operatorname{Gam}(\\lambda \\mid \\hat{a}, \\hat{b})$ \\\\\n",
        "$\\hat{a}=\\frac{N}{2}+a$ \\\\\n",
        "$\\hat{b}=\\frac{1}{2}\\left(\\sum_{n=1}^{N} x_{n}^{2}+\\beta m^{2}-\\hat{\\beta} \\hat{m}^{2}\\right)+b$"
      ]
    },
    {
      "cell_type": "code",
      "execution_count": 20,
      "metadata": {
        "id": "cwbBnNudC87l"
      },
      "outputs": [],
      "source": [
        "#ランダムサンプリング\n",
        "N=1000\n",
        "x_n = np.random.normal(loc=mu_truth, scale=np.sqrt(1 / lambda_truth), size=N)\n",
        "\n",
        "# 事前分布のパラメータを指定\n",
        "beta=0\n",
        "m = 1\n",
        "a = 1\n",
        "b = 1\n",
        "\n",
        "# x軸の値を設定\n",
        "mu_line = np.arange(900, 1100, 0.01)\n",
        "lambda_line = np.linspace(0, 2 * lambda_truth, num=1000)\n",
        "x_line = np.linspace(mu_truth - 4 * np.sqrt(1 / lambda_truth), mu_truth + 4 * np.sqrt(1 / lambda_truth), num=1000)\n",
        "\n",
        "# ハイパーパラメータの計算\n",
        "beta_hat = N + beta\n",
        "m_hat = (np.sum(x_n) + beta * m) / beta_hat\n",
        "a_hat = N/2 + a\n",
        "b_hat = (np.sum(x_n**2) + beta * m**2 - beta_hat * m_hat**2) / 2 + b\n",
        "lambda_hat = a_hat / b_hat\n",
        "\n",
        "posterior_mu = norm.pdf(x=mu_line, loc=m_hat, scale=np.sqrt(1 / beta_hat / lambda_hat))\n",
        "posterior_lambda = gamma.pdf(x=lambda_line, a=a_hat, scale=1 / b_hat)"
      ]
    },
    {
      "cell_type": "code",
      "execution_count": 21,
      "metadata": {
        "colab": {
          "base_uri": "https://localhost:8080/",
          "height": 585
        },
        "id": "BuVibQAzLWXV",
        "outputId": "3854d3fe-1966-42b6-87da-0b2cfe93a397"
      },
      "outputs": [
        {
          "data": {
            "image/png": "[encoded data removed]",
            "text/plain": [
              "<Figure size 432x288 with 1 Axes>"
            ]
          },
          "metadata": {
            "needs_background": "light"
          },
          "output_type": "display_data"
        },
        {
          "data": {
            "image/png": "[encoded data removed]",
            "text/plain": [
              "<Figure size 432x288 with 1 Axes>"
            ]
          },
          "metadata": {
            "needs_background": "light"
          },
          "output_type": "display_data"
        }
      ],
      "source": [
        "# 理論値と事後分布の描画\n",
        "plt.figure()\n",
        "plt.plot(mu_line, posterior_mu, label='$\\mu$ posterior') \n",
        "plt.vlines(x=mu_truth, ymin=0, ymax=max(posterior_mu), label='$\\mu$ truth', color='blue', linestyle='--') \n",
        "plt.xlabel('$\\mu$')\n",
        "plt.ylabel('density')\n",
        "plt.title('Gaussian Distribution: $N=' + str(N) + ', \\hat{m}=' + str(np.round(m_hat, 1)) + ', \\hat{\\\\beta}=' + str(beta_hat) + ', [\\hat{\\lambda}]=' + str(np.round(lambda_hat, 3)) + '$')\n",
        "plt.legend()\n",
        "plt.show()\n",
        "\n",
        "plt.figure()\n",
        "plt.plot(lambda_line, posterior_lambda, label='$\\lambda$ posterior')\n",
        "plt.vlines(x=lambda_truth, ymin=0, ymax=max(posterior_lambda), label='$\\lambda$ truth', color='blue', linestyle='--') \n",
        "plt.xlabel('$\\lambda$')\n",
        "plt.ylabel('density')\n",
        "plt.title('Gamma Distribution: $N=' + str(N) + ', a=' + str(a_hat) + ', b=' + str(np.round(b_hat, 1)) + '$')\n",
        "plt.legend()\n",
        "plt.show()"
      ]
    },
    {
      "cell_type": "code",
      "execution_count": 22,
      "metadata": {
        "colab": {
          "base_uri": "https://localhost:8080/",
          "height": 297
        },
        "id": "eIha1Mg11uku",
        "outputId": "1619c419-9336-45e5-905e-0cda5c4cdb05"
      },
      "outputs": [
        {
          "data": {
            "image/png": "[encoded data removed]",
            "text/plain": [
              "<Figure size 432x288 with 1 Axes>"
            ]
          },
          "metadata": {
            "needs_background": "light"
          },
          "output_type": "display_data"
        }
      ],
      "source": [
        "#予測分布の計算\n",
        "mu_s = m_hat\n",
        "lambda_s = beta_hat * a_hat / (1 + beta_hat) / b_hat\n",
        "nu_s = 2 * a_hat\n",
        "\n",
        "true_model = norm.pdf(x=x_line, loc=mu_truth, scale=np.sqrt(1 / lambda_truth))\n",
        "predict = t.pdf(x=x_line, df=nu_s, loc=mu_s, scale=np.sqrt(1 / lambda_s))\n",
        "\n",
        "plt.figure()\n",
        "plt.plot(x_line, predict, label='predict') \n",
        "plt.plot(x_line, true_model, label='true', color='blue', linestyle='--')\n",
        "plt.xlabel('x')\n",
        "plt.ylabel('density')\n",
        "plt.title('Student\\'s t Distribution: $N=' + str(N) + ', {\\mu}_s=' + str(np.round(mu_s, 1)) + ', {\\lambda}_s=' + str(np.round(lambda_s, 3)) + ', {\\\\nu}_s=' + str(nu_s) + '$')\n",
        "plt.legend()\n",
        "plt.show()"
      ]
    }
  ],
  "metadata": {
    "colab": {
      "name": "3_3.ipynb",
      "provenance": []
    },
    "kernelspec": {
      "display_name": "Python 3",
      "name": "python3"
    },
    "language_info": {
      "name": "python"
    }
  },
  "nbformat": 4,
  "nbformat_minor": 0
}
